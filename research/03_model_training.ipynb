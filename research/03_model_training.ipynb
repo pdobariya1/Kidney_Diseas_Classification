{
 "cells": [
  {
   "cell_type": "code",
   "execution_count": 1,
   "metadata": {},
   "outputs": [],
   "source": [
    "import os"
   ]
  },
  {
   "cell_type": "code",
   "execution_count": 2,
   "metadata": {},
   "outputs": [
    {
     "data": {
      "text/plain": [
       "'d:\\\\Project1\\\\Kidney_Disease_Classification\\\\research'"
      ]
     },
     "execution_count": 2,
     "metadata": {},
     "output_type": "execute_result"
    }
   ],
   "source": [
    "%pwd"
   ]
  },
  {
   "cell_type": "code",
   "execution_count": 3,
   "metadata": {},
   "outputs": [
    {
     "data": {
      "text/plain": [
       "'d:\\\\Project1\\\\Kidney_Disease_Classification'"
      ]
     },
     "execution_count": 3,
     "metadata": {},
     "output_type": "execute_result"
    }
   ],
   "source": [
    "os.chdir(\"../\")\n",
    "%pwd"
   ]
  },
  {
   "cell_type": "code",
   "execution_count": 4,
   "metadata": {},
   "outputs": [],
   "source": [
    "from dataclasses import dataclass\n",
    "from pathlib import Path\n",
    "\n",
    "@dataclass(frozen=True)\n",
    "class TrainingConfig:\n",
    "    root_dir: Path\n",
    "    trained_model_path: Path\n",
    "    updated_base_model_path: Path\n",
    "    training_data: Path\n",
    "    params_epochs: int\n",
    "    params_batch_size: int\n",
    "    params_is_augmentation: bool\n",
    "    params_image_size: list"
   ]
  },
  {
   "cell_type": "code",
   "execution_count": 5,
   "metadata": {},
   "outputs": [],
   "source": [
    "from Kidney_Disease_Classification.constants import *\n",
    "from Kidney_Disease_Classification.utils.common import read_yaml, create_directories\n",
    "import tensorflow as tf"
   ]
  },
  {
   "cell_type": "code",
   "execution_count": 6,
   "metadata": {},
   "outputs": [],
   "source": [
    "class ConfigurationManager:\n",
    "    def __init__(\n",
    "        self,\n",
    "        config_filepath = CONFIG_FILE_PATH,\n",
    "        params_filepath = PARAMS_FILE_PATH\n",
    "    ):\n",
    "        self.config = read_yaml(config_filepath)\n",
    "        self.params = read_yaml(params_filepath)\n",
    "        \n",
    "        create_directories([self.config.artifacts_root])\n",
    "    \n",
    "    \n",
    "    def get_training_config(self) -> TrainingConfig:\n",
    "        training =self.config.training\n",
    "        prepare_base_model = self.config.prepare_base_model\n",
    "        params = self.params\n",
    "        training_data = os.path.join(self.config.data_ingestion.unzip_dir, \"kidney-ct-scan-image\")\n",
    "        create_directories([\n",
    "            Path(training.root_dir)\n",
    "        ])\n",
    "        \n",
    "        training_config = TrainingConfig(\n",
    "            root_dir=Path(training.root_dir),\n",
    "            trained_model_path=Path(training.trained_model_path),\n",
    "            updated_base_model_path=Path(prepare_base_model.updated_base_model_path),\n",
    "            training_data=Path(training_data),\n",
    "            params_epochs=params.EPOCHS,\n",
    "            params_batch_size=params.BATCH_SIZE,\n",
    "            params_is_augmentation=params.AUGMENTATION,\n",
    "            params_image_size=params.IMAGE_SIZE\n",
    "        )\n",
    "        \n",
    "        return training_config"
   ]
  },
  {
   "cell_type": "code",
   "execution_count": 7,
   "metadata": {},
   "outputs": [],
   "source": [
    "class Training:\n",
    "    def __init__(self, config: TrainingConfig):\n",
    "        self.config = config\n",
    "    \n",
    "    \n",
    "    def get_base_model(self):\n",
    "        self.model = tf.keras.models.load_model(\n",
    "            self.config.updated_base_model_path\n",
    "        )\n",
    "    \n",
    "    \n",
    "    def train_valid_generated(self):\n",
    "        \n",
    "        datagenerator_kwargs = dict(\n",
    "            rescale = 1./255,\n",
    "            validation_split = 0.2\n",
    "        )\n",
    "        \n",
    "        dataflow_kwargs = dict(\n",
    "            target_size = self.config.params_image_size[:-1],\n",
    "            batch_size = self.config.params_batch_size,\n",
    "            interpolation = \"bilinear\"\n",
    "        )\n",
    "        \n",
    "        valid_datagenerator = tf.keras.preprocessing.image.ImageDataGenerator(\n",
    "            **datagenerator_kwargs\n",
    "        )\n",
    "        \n",
    "        self.valid_generator = valid_datagenerator.flow_from_directory(\n",
    "            directory= self.config.training_data,\n",
    "            subset= \"validation\",\n",
    "            shuffle= False,\n",
    "            **dataflow_kwargs\n",
    "        )\n",
    "        \n",
    "        if self.config.params_is_augmentation:\n",
    "            train_datagenerator = tf.keras.preprocessing.image.ImageDataGenerator(\n",
    "                rotation_range=40,\n",
    "                horizontal_flip=True,\n",
    "                width_shift_range=0.2,\n",
    "                height_shift_range=0.2,\n",
    "                shear_range=0.2,\n",
    "                zoom_range=0.2,\n",
    "                **datagenerator_kwargs\n",
    "            )\n",
    "        else:\n",
    "            train_datagenerator = valid_datagenerator\n",
    "        \n",
    "        self.train_generator = train_datagenerator.flow_from_directory(\n",
    "            directory=self.config.training_data,\n",
    "            subset=\"training\",\n",
    "            shuffle=True,\n",
    "            **dataflow_kwargs\n",
    "        )\n",
    "    \n",
    "    \n",
    "    @staticmethod\n",
    "    def save_model(path: Path, model: tf.keras.Model):\n",
    "        model.save(path)\n",
    "    \n",
    "    \n",
    "    def train(self):\n",
    "        self.steps_per_epoch = self.train_generator.samples // self.train_generator.batch_size\n",
    "        self.validation_steps = self.train_generator.samples // self.train_generator.batch_size\n",
    "        \n",
    "        self.model.fit(\n",
    "            self.train_generator,\n",
    "            epochs = self.config.params_epochs,\n",
    "            steps_per_epoch = self.steps_per_epoch,\n",
    "            validation_steps = self.validation_steps,\n",
    "            validation_data = self.valid_generator,\n",
    "        )\n",
    "        \n",
    "        self.save_model(\n",
    "            path=self.config.trained_model_path,\n",
    "            model=self.model\n",
    "        )"
   ]
  },
  {
   "cell_type": "code",
   "execution_count": 8,
   "metadata": {},
   "outputs": [
    {
     "name": "stdout",
     "output_type": "stream",
     "text": [
      "[2023-12-30 13:12:41,648: INFO: common: yaml file: config\\config.yaml loaded successfully]\n",
      "[2023-12-30 13:12:41,672: INFO: common: yaml file: params.yaml loaded successfully]\n",
      "[2023-12-30 13:12:41,677: INFO: common: Created directory at: artifacts]\n",
      "[2023-12-30 13:12:41,687: INFO: common: Created directory at: artifacts\\training]\n",
      "Found 93 images belonging to 2 classes.\n",
      "Found 372 images belonging to 2 classes.\n",
      "Epoch 1/10\n",
      "23/23 [==============================] - ETA: 0s - loss: 12.0257 - accuracy: 0.5702[2023-12-30 13:14:44,525: WARNING: data_adapter: Your input ran out of data; interrupting training. Make sure that your dataset or generator can generate at least `steps_per_epoch * epochs` batches (in this case, 23 batches). You may need to use the repeat() function when building your dataset.]\n",
      "23/23 [==============================] - 114s 5s/step - loss: 12.0257 - accuracy: 0.5702 - val_loss: 6.9566 - val_accuracy: 0.5161\n",
      "Epoch 2/10\n",
      "23/23 [==============================] - 88s 4s/step - loss: 3.8915 - accuracy: 0.7584\n",
      "Epoch 3/10\n",
      "23/23 [==============================] - 91s 4s/step - loss: 7.9563 - accuracy: 0.6629\n",
      "Epoch 4/10\n",
      "23/23 [==============================] - 95s 4s/step - loss: 5.6375 - accuracy: 0.7473\n",
      "Epoch 5/10\n",
      "23/23 [==============================] - 89s 4s/step - loss: 3.1142 - accuracy: 0.8062\n",
      "Epoch 6/10\n",
      "23/23 [==============================] - 86s 4s/step - loss: 1.5049 - accuracy: 0.8567\n",
      "Epoch 7/10\n",
      "23/23 [==============================] - 90s 4s/step - loss: 2.2751 - accuracy: 0.8343\n",
      "Epoch 8/10\n",
      "23/23 [==============================] - 79s 3s/step - loss: 2.5393 - accuracy: 0.7949\n",
      "Epoch 9/10\n",
      "23/23 [==============================] - 81s 4s/step - loss: 1.6075 - accuracy: 0.8399\n",
      "Epoch 10/10\n",
      "23/23 [==============================] - 97s 4s/step - loss: 2.3989 - accuracy: 0.8062\n"
     ]
    }
   ],
   "source": [
    "try:\n",
    "    config = ConfigurationManager()\n",
    "    training_config = config.get_training_config()\n",
    "    training = Training(config=training_config)\n",
    "    training.get_base_model()\n",
    "    training.train_valid_generated()\n",
    "    training.train()\n",
    "except Exception as e:\n",
    "    raise e"
   ]
  }
 ],
 "metadata": {
  "kernelspec": {
   "display_name": "kidney",
   "language": "python",
   "name": "python3"
  },
  "language_info": {
   "codemirror_mode": {
    "name": "ipython",
    "version": 3
   },
   "file_extension": ".py",
   "mimetype": "text/x-python",
   "name": "python",
   "nbconvert_exporter": "python",
   "pygments_lexer": "ipython3",
   "version": "3.8.18"
  }
 },
 "nbformat": 4,
 "nbformat_minor": 2
}
